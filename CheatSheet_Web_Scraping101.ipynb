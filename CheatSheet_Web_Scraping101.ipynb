{
  "nbformat": 4,
  "nbformat_minor": 0,
  "metadata": {
    "colab": {
      "name": "CheatSheet-Web-Scraping101.ipynb",
      "provenance": [],
      "include_colab_link": true
    },
    "kernelspec": {
      "name": "python3",
      "display_name": "Python 3"
    }
  },
  "cells": [
    {
      "cell_type": "markdown",
      "metadata": {
        "id": "view-in-github",
        "colab_type": "text"
      },
      "source": [
        "<a href=\"https://colab.research.google.com/github/hamletbatista/inbound/blob/master/CheatSheet_Web_Scraping101.ipynb\" target=\"_parent\"><img src=\"https://colab.research.google.com/assets/colab-badge.svg\" alt=\"Open In Colab\"/></a>"
      ]
    },
    {
      "cell_type": "markdown",
      "metadata": {
        "id": "ZG0ekdMGlRd5",
        "colab_type": "text"
      },
      "source": [
        "#Web Scraping 101 with Python\n",
        "\n",
        "Tool: https://scrapy.org/\n",
        "\n",
        "\n",
        "Libraries\n",
        "\n",
        "1. Scrapy"
      ]
    },
    {
      "cell_type": "markdown",
      "metadata": {
        "id": "fUc6phFniOmJ",
        "colab_type": "text"
      },
      "source": [
        "**The value of original research.**\n",
        "\n",
        "We are going to get SEO and accessibility scores of themes in the Shopify Marketplace\n",
        "\n",
        "I performed two similar studies for Practical Ecommerce but focused on speed.\n",
        "\n",
        "https://www.practicalecommerce.com/assessing-googles-core-web-vitals-on-shopify-themes\n",
        "\n",
        "https://www.practicalecommerce.com/page-speed-scores-of-every-shopify-theme\n"
      ]
    },
    {
      "cell_type": "markdown",
      "metadata": {
        "id": "JozrsO0to7h6",
        "colab_type": "text"
      },
      "source": [
        "## Scraping themes in two phases\n",
        "\n",
        "### First, let's define custom HTML DOM element extractors\n",
        "\n",
        "![alt text](https://github.com/hamletbatista/inbound/raw/master/selectors.png)\n",
        "\n",
        "1. Select the theme name, right-click and click on \"Inspect Element\"\n",
        "2. Mouse over to the HTML tag and right-click again\n",
        "3. Select \"Copy > Copy selector\"\n",
        "\n",
        "Please paste the selectors in the form below"
      ]
    },
    {
      "cell_type": "markdown",
      "metadata": {
        "id": "PDEZGo0yRuHf",
        "colab_type": "text"
      },
      "source": [
        "### Phase 1: Get the theme name and URL by following links"
      ]
    },
    {
      "cell_type": "code",
      "metadata": {
        "id": "-v78n6XllhlJ",
        "colab_type": "code",
        "colab": {}
      },
      "source": [
        "%%capture\n",
        "!!pip install scrapy"
      ],
      "execution_count": null,
      "outputs": []
    },
    {
      "cell_type": "code",
      "metadata": {
        "id": "JdLj5I6eljfg",
        "colab_type": "code",
        "colab": {
          "base_uri": "https://localhost:8080/",
          "height": 34
        },
        "outputId": "877f24c0-4ce5-454a-c7d6-93944d83be83"
      },
      "source": [
        "%%writefile shopifyspider.py\n",
        "\n",
        "import scrapy\n",
        "\n",
        "class ShopifyThemeSpider(scrapy.Spider):\n",
        "    name = 'shopifyspider'\n",
        "    start_urls = [ \"https://themes.shopify.com/themes?page=1\"]\n",
        "\n",
        "    def parse(self, response):\n",
        "        for theme in response.css(\".theme-info\"): # Div\n",
        "            yield {\"link\": theme.css(\"a::attr(href)\").get(), # A href\n",
        "                   'theme': theme.css(\"a span ::text\").get()} #Span text\n",
        "\n",
        "        # Scrape each page in the series\n",
        "        for next_page in response.css(\"a.next_page\"):\n",
        "            yield response.follow(next_page, self.parse)"
      ],
      "execution_count": null,
      "outputs": [
        {
          "output_type": "stream",
          "text": [
            "Writing shopifyspider.py\n"
          ],
          "name": "stdout"
        }
      ]
    },
    {
      "cell_type": "code",
      "metadata": {
        "id": "lanrnvkBoMzU",
        "colab_type": "code",
        "colab": {
          "base_uri": "https://localhost:8080/",
          "height": 1000
        },
        "outputId": "fe85b5ff-ba28-4570-cea5-e5f02cb35b27"
      },
      "source": [
        "!scrapy runspider shopifyspider.py -o data.csv"
      ],
      "execution_count": null,
      "outputs": [
        {
          "output_type": "stream",
          "text": [
            "2020-07-18 03:51:28 [scrapy.utils.log] INFO: Scrapy 2.2.1 started (bot: scrapybot)\n",
            "2020-07-18 03:51:28 [scrapy.utils.log] INFO: Versions: lxml 4.2.6.0, libxml2 2.9.8, cssselect 1.1.0, parsel 1.6.0, w3lib 1.22.0, Twisted 20.3.0, Python 3.6.9 (default, Apr 18 2020, 01:56:04) - [GCC 8.4.0], pyOpenSSL 19.1.0 (OpenSSL 1.1.1g  21 Apr 2020), cryptography 2.9.2, Platform Linux-4.19.104+-x86_64-with-Ubuntu-18.04-bionic\n",
            "2020-07-18 03:51:28 [scrapy.utils.log] DEBUG: Using reactor: twisted.internet.epollreactor.EPollReactor\n",
            "2020-07-18 03:51:28 [scrapy.crawler] INFO: Overridden settings:\n",
            "{'SPIDER_LOADER_WARN_ONLY': True}\n",
            "2020-07-18 03:51:28 [scrapy.extensions.telnet] INFO: Telnet Password: 73959149fc63ca6a\n",
            "2020-07-18 03:51:28 [scrapy.middleware] INFO: Enabled extensions:\n",
            "['scrapy.extensions.corestats.CoreStats',\n",
            " 'scrapy.extensions.telnet.TelnetConsole',\n",
            " 'scrapy.extensions.memusage.MemoryUsage',\n",
            " 'scrapy.extensions.feedexport.FeedExporter',\n",
            " 'scrapy.extensions.logstats.LogStats']\n",
            "2020-07-18 03:51:28 [scrapy.middleware] INFO: Enabled downloader middlewares:\n",
            "['scrapy.downloadermiddlewares.httpauth.HttpAuthMiddleware',\n",
            " 'scrapy.downloadermiddlewares.downloadtimeout.DownloadTimeoutMiddleware',\n",
            " 'scrapy.downloadermiddlewares.defaultheaders.DefaultHeadersMiddleware',\n",
            " 'scrapy.downloadermiddlewares.useragent.UserAgentMiddleware',\n",
            " 'scrapy.downloadermiddlewares.retry.RetryMiddleware',\n",
            " 'scrapy.downloadermiddlewares.redirect.MetaRefreshMiddleware',\n",
            " 'scrapy.downloadermiddlewares.httpcompression.HttpCompressionMiddleware',\n",
            " 'scrapy.downloadermiddlewares.redirect.RedirectMiddleware',\n",
            " 'scrapy.downloadermiddlewares.cookies.CookiesMiddleware',\n",
            " 'scrapy.downloadermiddlewares.httpproxy.HttpProxyMiddleware',\n",
            " 'scrapy.downloadermiddlewares.stats.DownloaderStats']\n",
            "2020-07-18 03:51:28 [scrapy.middleware] INFO: Enabled spider middlewares:\n",
            "['scrapy.spidermiddlewares.httperror.HttpErrorMiddleware',\n",
            " 'scrapy.spidermiddlewares.offsite.OffsiteMiddleware',\n",
            " 'scrapy.spidermiddlewares.referer.RefererMiddleware',\n",
            " 'scrapy.spidermiddlewares.urllength.UrlLengthMiddleware',\n",
            " 'scrapy.spidermiddlewares.depth.DepthMiddleware']\n",
            "2020-07-18 03:51:28 [scrapy.middleware] INFO: Enabled item pipelines:\n",
            "[]\n",
            "2020-07-18 03:51:28 [scrapy.core.engine] INFO: Spider opened\n",
            "2020-07-18 03:51:28 [scrapy.extensions.logstats] INFO: Crawled 0 pages (at 0 pages/min), scraped 0 items (at 0 items/min)\n",
            "2020-07-18 03:51:28 [scrapy.extensions.telnet] INFO: Telnet console listening on 127.0.0.1:6023\n",
            "2020-07-18 03:51:30 [scrapy.core.engine] DEBUG: Crawled (200) <GET https://themes.shopify.com/themes?page=1> (referer: None)\n",
            "2020-07-18 03:51:30 [scrapy.core.scraper] DEBUG: Scraped from <200 https://themes.shopify.com/themes?page=1>\n",
            "{'link': '/themes/express/styles/bistro', 'theme': 'Express'}\n",
            "2020-07-18 03:51:30 [scrapy.core.scraper] DEBUG: Scraped from <200 https://themes.shopify.com/themes?page=1>\n",
            "{'link': '/themes/streamline/styles/core', 'theme': 'Streamline'}\n",
            "2020-07-18 03:51:30 [scrapy.core.scraper] DEBUG: Scraped from <200 https://themes.shopify.com/themes?page=1>\n",
            "{'link': '/themes/warehouse/styles/metal', 'theme': 'Warehouse'}\n",
            "2020-07-18 03:51:30 [scrapy.core.scraper] DEBUG: Scraped from <200 https://themes.shopify.com/themes?page=1>\n",
            "{'link': '/themes/context/styles/chic', 'theme': 'Context'}\n",
            "2020-07-18 03:51:30 [scrapy.core.scraper] DEBUG: Scraped from <200 https://themes.shopify.com/themes?page=1>\n",
            "{'link': '/themes/broadcast/styles/clean', 'theme': 'Broadcast'}\n",
            "2020-07-18 03:51:30 [scrapy.core.scraper] DEBUG: Scraped from <200 https://themes.shopify.com/themes?page=1>\n",
            "{'link': '/themes/avenue/styles/casual', 'theme': 'Avenue'}\n",
            "2020-07-18 03:51:30 [scrapy.core.scraper] DEBUG: Scraped from <200 https://themes.shopify.com/themes?page=1>\n",
            "{'link': '/themes/story/styles/chronicle', 'theme': 'Story'}\n",
            "2020-07-18 03:51:30 [scrapy.core.scraper] DEBUG: Scraped from <200 https://themes.shopify.com/themes?page=1>\n",
            "{'link': '/themes/boost/styles/flourish', 'theme': 'Boost'}\n",
            "2020-07-18 03:51:30 [scrapy.core.scraper] DEBUG: Scraped from <200 https://themes.shopify.com/themes?page=1>\n",
            "{'link': '/themes/cascade/styles/classic', 'theme': 'Cascade'}\n",
            "2020-07-18 03:51:30 [scrapy.core.scraper] DEBUG: Scraped from <200 https://themes.shopify.com/themes?page=1>\n",
            "{'link': '/themes/impulse/styles/modern', 'theme': 'Impulse'}\n",
            "2020-07-18 03:51:30 [scrapy.core.scraper] DEBUG: Scraped from <200 https://themes.shopify.com/themes?page=1>\n",
            "{'link': '/themes/artisan/styles/victoria', 'theme': 'Artisan'}\n",
            "2020-07-18 03:51:30 [scrapy.core.scraper] DEBUG: Scraped from <200 https://themes.shopify.com/themes?page=1>\n",
            "{'link': '/themes/prestige/styles/allure', 'theme': 'Prestige'}\n",
            "2020-07-18 03:51:30 [scrapy.core.scraper] DEBUG: Scraped from <200 https://themes.shopify.com/themes?page=1>\n",
            "{'link': '/themes/reach/styles/natural', 'theme': 'Reach'}\n",
            "2020-07-18 03:51:30 [scrapy.core.scraper] DEBUG: Scraped from <200 https://themes.shopify.com/themes?page=1>\n",
            "{'link': '/themes/galleria/styles/empire', 'theme': 'Galleria'}\n",
            "2020-07-18 03:51:30 [scrapy.core.scraper] DEBUG: Scraped from <200 https://themes.shopify.com/themes?page=1>\n",
            "{'link': '/themes/modular/styles/chelsea', 'theme': 'Modular'}\n",
            "2020-07-18 03:51:30 [scrapy.core.scraper] DEBUG: Scraped from <200 https://themes.shopify.com/themes?page=1>\n",
            "{'link': '/themes/motion/styles/classic', 'theme': 'Motion'}\n",
            "2020-07-18 03:51:30 [scrapy.core.scraper] DEBUG: Scraped from <200 https://themes.shopify.com/themes?page=1>\n",
            "{'link': '/themes/loft/styles/nashville', 'theme': 'Loft'}\n",
            "2020-07-18 03:51:30 [scrapy.core.scraper] DEBUG: Scraped from <200 https://themes.shopify.com/themes?page=1>\n",
            "{'link': '/themes/split/styles/cuber', 'theme': 'Split'}\n",
            "2020-07-18 03:51:30 [scrapy.core.scraper] DEBUG: Scraped from <200 https://themes.shopify.com/themes?page=1>\n",
            "{'link': '/themes/empire/styles/graphic', 'theme': 'Empire'}\n",
            "2020-07-18 03:51:30 [scrapy.core.scraper] DEBUG: Scraped from <200 https://themes.shopify.com/themes?page=1>\n",
            "{'link': '/themes/venue/styles/morning', 'theme': 'Venue'}\n",
            "2020-07-18 03:51:30 [scrapy.core.scraper] DEBUG: Scraped from <200 https://themes.shopify.com/themes?page=1>\n",
            "{'link': '/themes/narrative/styles/earthy', 'theme': 'Narrative'}\n",
            "2020-07-18 03:51:30 [scrapy.core.scraper] DEBUG: Scraped from <200 https://themes.shopify.com/themes?page=1>\n",
            "{'link': '/themes/emerge/styles/bright', 'theme': 'Emerge'}\n",
            "2020-07-18 03:51:30 [scrapy.core.scraper] DEBUG: Scraped from <200 https://themes.shopify.com/themes?page=1>\n",
            "{'link': '/themes/editorial/styles/agency', 'theme': 'Editorial'}\n",
            "2020-07-18 03:51:30 [scrapy.core.scraper] DEBUG: Scraped from <200 https://themes.shopify.com/themes?page=1>\n",
            "{'link': '/themes/handy/styles/light', 'theme': 'Handy'}\n",
            "2020-07-18 03:51:30 [scrapy.core.engine] DEBUG: Crawled (200) <GET https://themes.shopify.com/themes?page=2> (referer: https://themes.shopify.com/themes?page=1)\n",
            "2020-07-18 03:51:30 [scrapy.core.scraper] DEBUG: Scraped from <200 https://themes.shopify.com/themes?page=2>\n",
            "{'link': '/themes/trademark/styles/gold', 'theme': 'Trademark'}\n",
            "2020-07-18 03:51:30 [scrapy.core.scraper] DEBUG: Scraped from <200 https://themes.shopify.com/themes?page=2>\n",
            "{'link': '/themes/capital/styles/prague', 'theme': 'Capital'}\n",
            "2020-07-18 03:51:30 [scrapy.core.scraper] DEBUG: Scraped from <200 https://themes.shopify.com/themes?page=2>\n",
            "{'link': '/themes/vogue/styles/elegant', 'theme': 'Vogue'}\n",
            "2020-07-18 03:51:30 [scrapy.core.scraper] DEBUG: Scraped from <200 https://themes.shopify.com/themes?page=2>\n",
            "{'link': '/themes/debut/styles/default', 'theme': 'Debut'}\n",
            "2020-07-18 03:51:30 [scrapy.core.scraper] DEBUG: Scraped from <200 https://themes.shopify.com/themes?page=2>\n",
            "{'link': '/themes/flow/styles/queenstown', 'theme': 'Flow'}\n",
            "2020-07-18 03:51:30 [scrapy.core.scraper] DEBUG: Scraped from <200 https://themes.shopify.com/themes?page=2>\n",
            "{'link': '/themes/lorenza/styles/air', 'theme': 'Lorenza'}\n",
            "2020-07-18 03:51:30 [scrapy.core.scraper] DEBUG: Scraped from <200 https://themes.shopify.com/themes?page=2>\n",
            "{'link': '/themes/launch/styles/cool', 'theme': 'Launch'}\n",
            "2020-07-18 03:51:30 [scrapy.core.scraper] DEBUG: Scraped from <200 https://themes.shopify.com/themes?page=2>\n",
            "{'link': '/themes/ira/styles/street', 'theme': 'Ira'}\n",
            "2020-07-18 03:51:30 [scrapy.core.scraper] DEBUG: Scraped from <200 https://themes.shopify.com/themes?page=2>\n",
            "{'link': '/themes/palo-alto/styles/palo-alto', 'theme': 'Palo Alto'}\n",
            "2020-07-18 03:51:30 [scrapy.core.scraper] DEBUG: Scraped from <200 https://themes.shopify.com/themes?page=2>\n",
            "{'link': '/themes/maker/styles/bloom', 'theme': 'Maker'}\n",
            "2020-07-18 03:51:30 [scrapy.core.scraper] DEBUG: Scraped from <200 https://themes.shopify.com/themes?page=2>\n",
            "{'link': '/themes/label/styles/record', 'theme': 'Label'}\n",
            "2020-07-18 03:51:30 [scrapy.core.scraper] DEBUG: Scraped from <200 https://themes.shopify.com/themes?page=2>\n",
            "{'link': '/themes/venture/styles/snowboards', 'theme': 'Venture'}\n",
            "2020-07-18 03:51:30 [scrapy.core.scraper] DEBUG: Scraped from <200 https://themes.shopify.com/themes?page=2>\n",
            "{'link': '/themes/boundless/styles/black-white', 'theme': 'Boundless'}\n",
            "2020-07-18 03:51:30 [scrapy.core.scraper] DEBUG: Scraped from <200 https://themes.shopify.com/themes?page=2>\n",
            "{'link': '/themes/pipeline/styles/light', 'theme': 'Pipeline'}\n",
            "2020-07-18 03:51:30 [scrapy.core.scraper] DEBUG: Scraped from <200 https://themes.shopify.com/themes?page=2>\n",
            "{'link': '/themes/simple/styles/light', 'theme': 'Simple'}\n",
            "2020-07-18 03:51:30 [scrapy.core.scraper] DEBUG: Scraped from <200 https://themes.shopify.com/themes?page=2>\n",
            "{'link': '/themes/colors/styles/generic', 'theme': 'Colors'}\n",
            "2020-07-18 03:51:30 [scrapy.core.scraper] DEBUG: Scraped from <200 https://themes.shopify.com/themes?page=2>\n",
            "{'link': '/themes/kagami/styles/kyoto', 'theme': 'Kagami'}\n",
            "2020-07-18 03:51:30 [scrapy.core.scraper] DEBUG: Scraped from <200 https://themes.shopify.com/themes?page=2>\n",
            "{'link': '/themes/district/styles/district', 'theme': 'District'}\n",
            "2020-07-18 03:51:30 [scrapy.core.scraper] DEBUG: Scraped from <200 https://themes.shopify.com/themes?page=2>\n",
            "{'link': '/themes/canopy/styles/kiln', 'theme': 'Canopy'}\n",
            "2020-07-18 03:51:30 [scrapy.core.scraper] DEBUG: Scraped from <200 https://themes.shopify.com/themes?page=2>\n",
            "{'link': '/themes/brooklyn/styles/classic', 'theme': 'Brooklyn'}\n",
            "2020-07-18 03:51:30 [scrapy.core.scraper] DEBUG: Scraped from <200 https://themes.shopify.com/themes?page=2>\n",
            "{'link': '/themes/kingdom/styles/king', 'theme': 'Kingdom'}\n",
            "2020-07-18 03:51:30 [scrapy.core.scraper] DEBUG: Scraped from <200 https://themes.shopify.com/themes?page=2>\n",
            "{'link': '/themes/grid/styles/bright', 'theme': 'Grid'}\n",
            "2020-07-18 03:51:30 [scrapy.core.scraper] DEBUG: Scraped from <200 https://themes.shopify.com/themes?page=2>\n",
            "{'link': '/themes/showtime/styles/cooktime', 'theme': 'ShowTime'}\n",
            "2020-07-18 03:51:30 [scrapy.core.scraper] DEBUG: Scraped from <200 https://themes.shopify.com/themes?page=2>\n",
            "{'link': '/themes/focal/styles/standard', 'theme': 'Focal'}\n",
            "2020-07-18 03:51:31 [scrapy.core.engine] DEBUG: Crawled (200) <GET https://themes.shopify.com/themes?page=3> (referer: https://themes.shopify.com/themes?page=2)\n",
            "2020-07-18 03:51:31 [scrapy.core.scraper] DEBUG: Scraped from <200 https://themes.shopify.com/themes?page=3>\n",
            "{'link': '/themes/pacific/styles/bold', 'theme': 'Pacific'}\n",
            "2020-07-18 03:51:31 [scrapy.core.scraper] DEBUG: Scraped from <200 https://themes.shopify.com/themes?page=3>\n",
            "{'link': '/themes/california/styles/california', 'theme': 'California'}\n",
            "2020-07-18 03:51:31 [scrapy.core.scraper] DEBUG: Scraped from <200 https://themes.shopify.com/themes?page=3>\n",
            "{'link': '/themes/icon/styles/dolce', 'theme': 'Icon'}\n",
            "2020-07-18 03:51:31 [scrapy.core.scraper] DEBUG: Scraped from <200 https://themes.shopify.com/themes?page=3>\n",
            "{'link': '/themes/parallax/styles/aspen', 'theme': 'Parallax'}\n",
            "2020-07-18 03:51:31 [scrapy.core.scraper] DEBUG: Scraped from <200 https://themes.shopify.com/themes?page=3>\n",
            "{'link': '/themes/supply/styles/blue', 'theme': 'Supply'}\n",
            "2020-07-18 03:51:31 [scrapy.core.scraper] DEBUG: Scraped from <200 https://themes.shopify.com/themes?page=3>\n",
            "{'link': '/themes/minimal/styles/vintage', 'theme': 'Minimal'}\n",
            "2020-07-18 03:51:31 [scrapy.core.scraper] DEBUG: Scraped from <200 https://themes.shopify.com/themes?page=3>\n",
            "{'link': '/themes/showcase/styles/beard', 'theme': 'Showcase'}\n",
            "2020-07-18 03:51:31 [scrapy.core.scraper] DEBUG: Scraped from <200 https://themes.shopify.com/themes?page=3>\n",
            "{'link': '/themes/alchemy/styles/swimclub', 'theme': 'Alchemy'}\n",
            "2020-07-18 03:51:31 [scrapy.core.scraper] DEBUG: Scraped from <200 https://themes.shopify.com/themes?page=3>\n",
            "{'link': '/themes/startup/styles/home', 'theme': 'Startup'}\n",
            "2020-07-18 03:51:31 [scrapy.core.scraper] DEBUG: Scraped from <200 https://themes.shopify.com/themes?page=3>\n",
            "{'link': '/themes/testament/styles/genesis', 'theme': 'Testament'}\n",
            "2020-07-18 03:51:31 [scrapy.core.scraper] DEBUG: Scraped from <200 https://themes.shopify.com/themes?page=3>\n",
            "{'link': '/themes/blockshop/styles/beauty', 'theme': 'Blockshop'}\n",
            "2020-07-18 03:51:31 [scrapy.core.scraper] DEBUG: Scraped from <200 https://themes.shopify.com/themes?page=3>\n",
            "{'link': '/themes/retina/styles/austin', 'theme': 'Retina'}\n",
            "2020-07-18 03:51:31 [scrapy.core.scraper] DEBUG: Scraped from <200 https://themes.shopify.com/themes?page=3>\n",
            "{'link': '/themes/mr-parker/styles/wardrobe', 'theme': 'Mr Parker'}\n",
            "2020-07-18 03:51:31 [scrapy.core.scraper] DEBUG: Scraped from <200 https://themes.shopify.com/themes?page=3>\n",
            "{'link': '/themes/providence/styles/thunderbolt', 'theme': 'Providence'}\n",
            "2020-07-18 03:51:31 [scrapy.core.scraper] DEBUG: Scraped from <200 https://themes.shopify.com/themes?page=3>\n",
            "{'link': '/themes/symmetry/styles/salt-yard', 'theme': 'Symmetry'}\n",
            "2020-07-18 03:51:31 [scrapy.core.scraper] DEBUG: Scraped from <200 https://themes.shopify.com/themes?page=3>\n",
            "{'link': '/themes/atlantic/styles/organic', 'theme': 'Atlantic'}\n",
            "2020-07-18 03:51:31 [scrapy.core.scraper] DEBUG: Scraped from <200 https://themes.shopify.com/themes?page=3>\n",
            "{'link': '/themes/vantage/styles/clean', 'theme': 'Vantage'}\n",
            "2020-07-18 03:51:31 [scrapy.core.scraper] DEBUG: Scraped from <200 https://themes.shopify.com/themes?page=3>\n",
            "{'link': '/themes/mobilia/styles/milan', 'theme': 'Mobilia'}\n",
            "2020-07-18 03:51:31 [scrapy.core.scraper] DEBUG: Scraped from <200 https://themes.shopify.com/themes?page=3>\n",
            "{'link': '/themes/editions/styles/light', 'theme': 'Editions'}\n",
            "2020-07-18 03:51:31 [scrapy.core.scraper] DEBUG: Scraped from <200 https://themes.shopify.com/themes?page=3>\n",
            "{'link': '/themes/masonry/styles/dragonfly', 'theme': 'Masonry'}\n",
            "2020-07-18 03:51:31 [scrapy.core.scraper] DEBUG: Scraped from <200 https://themes.shopify.com/themes?page=3>\n",
            "{'link': '/themes/envy/styles/stockholm', 'theme': 'Envy'}\n",
            "2020-07-18 03:51:31 [scrapy.core.scraper] DEBUG: Scraped from <200 https://themes.shopify.com/themes?page=3>\n",
            "{'link': '/themes/responsive/styles/london', 'theme': 'Responsive'}\n",
            "2020-07-18 03:51:31 [scrapy.core.scraper] DEBUG: Scraped from <200 https://themes.shopify.com/themes?page=3>\n",
            "{'link': '/themes/expression/styles/naturale', 'theme': 'Expression'}\n",
            "2020-07-18 03:51:31 [scrapy.core.scraper] DEBUG: Scraped from <200 https://themes.shopify.com/themes?page=3>\n",
            "{'link': '/themes/fashionopolism/styles/empire', 'theme': 'Fashionopolism'}\n",
            "2020-07-18 03:51:31 [scrapy.core.engine] DEBUG: Crawled (200) <GET https://themes.shopify.com/themes?page=4> (referer: https://themes.shopify.com/themes?page=3)\n",
            "2020-07-18 03:51:32 [scrapy.core.scraper] DEBUG: Scraped from <200 https://themes.shopify.com/themes?page=4>\n",
            "{'link': '/themes/sunrise/styles/spring', 'theme': 'Sunrise'}\n",
            "2020-07-18 03:51:32 [scrapy.core.engine] INFO: Closing spider (finished)\n",
            "2020-07-18 03:51:32 [scrapy.extensions.feedexport] INFO: Stored csv feed (73 items) in: data.csv\n",
            "2020-07-18 03:51:32 [scrapy.statscollectors] INFO: Dumping Scrapy stats:\n",
            "{'downloader/request_bytes': 1290,\n",
            " 'downloader/request_count': 4,\n",
            " 'downloader/request_method_count/GET': 4,\n",
            " 'downloader/response_bytes': 97593,\n",
            " 'downloader/response_count': 4,\n",
            " 'downloader/response_status_count/200': 4,\n",
            " 'elapsed_time_seconds': 3.205729,\n",
            " 'finish_reason': 'finished',\n",
            " 'finish_time': datetime.datetime(2020, 7, 18, 3, 51, 32, 8613),\n",
            " 'item_scraped_count': 73,\n",
            " 'log_count/DEBUG': 77,\n",
            " 'log_count/INFO': 11,\n",
            " 'memusage/max': 98299904,\n",
            " 'memusage/startup': 98299904,\n",
            " 'request_depth_max': 3,\n",
            " 'response_received_count': 4,\n",
            " 'scheduler/dequeued': 4,\n",
            " 'scheduler/dequeued/memory': 4,\n",
            " 'scheduler/enqueued': 4,\n",
            " 'scheduler/enqueued/memory': 4,\n",
            " 'start_time': datetime.datetime(2020, 7, 18, 3, 51, 28, 802884)}\n",
            "2020-07-18 03:51:32 [scrapy.core.engine] INFO: Spider closed (finished)\n"
          ],
          "name": "stdout"
        }
      ]
    },
    {
      "cell_type": "code",
      "metadata": {
        "id": "7lgOoHMNoWUw",
        "colab_type": "code",
        "colab": {
          "base_uri": "https://localhost:8080/",
          "height": 187
        },
        "outputId": "ac23f4a3-f4bf-4687-f6c1-07b28f56a332"
      },
      "source": [
        "!head data.csv"
      ],
      "execution_count": null,
      "outputs": [
        {
          "output_type": "stream",
          "text": [
            "link,theme\r\n",
            "/themes/express/styles/bistro,Express\r\n",
            "/themes/streamline/styles/core,Streamline\r\n",
            "/themes/warehouse/styles/metal,Warehouse\r\n",
            "/themes/context/styles/chic,Context\r\n",
            "/themes/broadcast/styles/clean,Broadcast\r\n",
            "/themes/avenue/styles/casual,Avenue\r\n",
            "/themes/story/styles/chronicle,Story\r\n",
            "/themes/boost/styles/flourish,Boost\r\n",
            "/themes/cascade/styles/classic,Cascade\r\n"
          ],
          "name": "stdout"
        }
      ]
    },
    {
      "cell_type": "code",
      "metadata": {
        "id": "HppjSYYsorO5",
        "colab_type": "code",
        "colab": {
          "base_uri": "https://localhost:8080/",
          "height": 34
        },
        "outputId": "33d0ec51-e140-4e99-b812-6c9fca16aa2d"
      },
      "source": [
        "!wc -l data.csv"
      ],
      "execution_count": null,
      "outputs": [
        {
          "output_type": "stream",
          "text": [
            "74 data.csv\n"
          ],
          "name": "stdout"
        }
      ]
    },
    {
      "cell_type": "code",
      "metadata": {
        "id": "1yo7MrXUWEFR",
        "colab_type": "code",
        "colab": {}
      },
      "source": [
        ""
      ],
      "execution_count": null,
      "outputs": []
    },
    {
      "cell_type": "markdown",
      "metadata": {
        "id": "gKd9sASVpL0k",
        "colab_type": "text"
      },
      "source": [
        "## Phase 2: Get the theme demo URL by Reading a list from file\n",
        "\n",
        "\n",
        "\n",
        "Libraries\n",
        "\n",
        "1. urllib\n",
        "2. csv\n",
        "3. pickle"
      ]
    },
    {
      "cell_type": "markdown",
      "metadata": {
        "id": "ieEOF26bpiGY",
        "colab_type": "text"
      },
      "source": [
        "First, we need to make the URLs retrieved absolute to be able to scrape them"
      ]
    },
    {
      "cell_type": "code",
      "metadata": {
        "id": "1aBasakHoxRD",
        "colab_type": "code",
        "colab": {}
      },
      "source": [
        "from urllib.parse import urljoin\n",
        "import csv\n",
        "from collections import OrderedDict"
      ],
      "execution_count": null,
      "outputs": []
    },
    {
      "cell_type": "code",
      "metadata": {
        "id": "SLwFCAHGp-Du",
        "colab_type": "code",
        "colab": {}
      },
      "source": [
        "data_file = csv.DictReader(open(\"data.csv\"))\n"
      ],
      "execution_count": null,
      "outputs": []
    },
    {
      "cell_type": "code",
      "metadata": {
        "id": "TZDhGg1eqiHf",
        "colab_type": "code",
        "colab": {}
      },
      "source": [
        "themes = dict()\n",
        "\n",
        "for row in data_file:\n",
        "  # Example row\n",
        "  #OrderedDict([('link', '/themes/express/styles/bistro'), ('theme', 'Express')])\n",
        "  \n",
        "  theme = row[\"theme\"]\n",
        "\n",
        "  link = row[\"link\"]\n",
        "\n",
        "  #'/themes/express/styles/bistro' -> 'https://themes.shopify.com/themes/express/styles/bistro'\n",
        "\n",
        "  link = urljoin(\"https://themes.shopify.com\", link)\n",
        "  \n",
        "  themes[link] = theme\n"
      ],
      "execution_count": null,
      "outputs": []
    },
    {
      "cell_type": "code",
      "metadata": {
        "id": "3bsJcmU3qloC",
        "colab_type": "code",
        "colab": {
          "base_uri": "https://localhost:8080/",
          "height": 34
        },
        "outputId": "b807192f-0c4c-43da-8aff-f8fb28f757fd"
      },
      "source": [
        "len(themes.keys())"
      ],
      "execution_count": null,
      "outputs": [
        {
          "output_type": "execute_result",
          "data": {
            "text/plain": [
              "73"
            ]
          },
          "metadata": {
            "tags": []
          },
          "execution_count": 24
        }
      ]
    },
    {
      "cell_type": "markdown",
      "metadata": {
        "id": "VjtKDWMktkM4",
        "colab_type": "text"
      },
      "source": [
        "Next, we need to persist the dictionary to a file and read from it from another spider"
      ]
    },
    {
      "cell_type": "code",
      "metadata": {
        "id": "Ttrmz__qtsyp",
        "colab_type": "code",
        "colab": {}
      },
      "source": [
        "import pickle\n",
        "\n",
        "with open(\"theme_links.pkl\", \"wb\") as f:\n",
        "  pickle.dump(themes, f)"
      ],
      "execution_count": null,
      "outputs": []
    },
    {
      "cell_type": "markdown",
      "metadata": {
        "id": "HfRUyoT_uBeR",
        "colab_type": "text"
      },
      "source": [
        "###Now, we create another spider to scrape the theme links we saved\n",
        "\n",
        "![alt text](https://github.com/hamletbatista/inbound/raw/master/demo-selector.png)\n",
        "\n",
        "Same steps as above"
      ]
    },
    {
      "cell_type": "code",
      "metadata": {
        "id": "vTSPeLzfuJus",
        "colab_type": "code",
        "colab": {
          "base_uri": "https://localhost:8080/",
          "height": 34
        },
        "outputId": "0cd18c8c-db5e-4d1f-ef97-2ddd896e95b7"
      },
      "source": [
        "%%writefile themelink_spider.py\n",
        "\n",
        "import scrapy\n",
        "import pickle\n",
        "\n",
        "class ShopifyThemeLinkSpider(scrapy.Spider):\n",
        "\n",
        "    name = 'shopifyspider'\n",
        "\n",
        "    with open('theme_links.pkl', 'rb') as f:\n",
        "\n",
        "      theme_links = pickle.load(f)\n",
        "\n",
        "    start_urls = theme_links.keys()\n",
        "\n",
        "    def parse(self, response):\n",
        "        \n",
        "        for theme in response.xpath(\"//a[contains(@class, 'theme-preview-link')]\"):\n",
        "            demo_url = theme.css(\"::attr(data-demo-url)\").get()\n",
        "\n",
        "            yield {\n",
        "                \"demo-url\": f\"https://{demo_url}\", \n",
        "                   \"link\" : response.url, #crawled page\n",
        "                   \"theme\": self.theme_links[response.url] #theme from pickled file\n",
        "            }\n"
      ],
      "execution_count": null,
      "outputs": [
        {
          "output_type": "stream",
          "text": [
            "Writing themelink_spider.py\n"
          ],
          "name": "stdout"
        }
      ]
    },
    {
      "cell_type": "code",
      "metadata": {
        "id": "ZeTSYJVmwK0i",
        "colab_type": "code",
        "colab": {}
      },
      "source": [
        "%%capture\n",
        "!scrapy runspider themelink_spider.py -o data2.csv"
      ],
      "execution_count": null,
      "outputs": []
    },
    {
      "cell_type": "code",
      "metadata": {
        "id": "7DrECisnwWXi",
        "colab_type": "code",
        "colab": {
          "base_uri": "https://localhost:8080/",
          "height": 207
        },
        "outputId": "f127e526-e45b-498e-90c2-1fae5f12634b"
      },
      "source": [
        "!head data2.csv"
      ],
      "execution_count": null,
      "outputs": [
        {
          "output_type": "stream",
          "text": [
            "demo-url,link,theme\r\n",
            "https://express-theme-bistro.myshopify.com/,https://themes.shopify.com/themes/express/styles/bistro,Express\r\n",
            "https://express-theme-bistro.myshopify.com/,https://themes.shopify.com/themes/express/styles/bistro,Express\r\n",
            "https://context-theme-chic.myshopify.com,https://themes.shopify.com/themes/context/styles/chic,Context\r\n",
            "https://context-theme-chic.myshopify.com,https://themes.shopify.com/themes/context/styles/chic,Context\r\n",
            "https://flourish-theme.myshopify.com,https://themes.shopify.com/themes/boost/styles/flourish,Boost\r\n",
            "https://flourish-theme.myshopify.com,https://themes.shopify.com/themes/boost/styles/flourish,Boost\r\n",
            "https://warehouse-theme-metal.myshopify.com,https://themes.shopify.com/themes/warehouse/styles/metal,Warehouse\r\n",
            "https://warehouse-theme-metal.myshopify.com,https://themes.shopify.com/themes/warehouse/styles/metal,Warehouse\r\n",
            "https://streamline-theme-core.myshopify.com,https://themes.shopify.com/themes/streamline/styles/core,Streamline\r\n"
          ],
          "name": "stdout"
        }
      ]
    },
    {
      "cell_type": "code",
      "metadata": {
        "id": "t25IL9yQ6Nld",
        "colab_type": "code",
        "colab": {
          "base_uri": "https://localhost:8080/",
          "height": 34
        },
        "outputId": "d1e9c6b9-d6f6-4207-8fb3-21ffd7b264a7"
      },
      "source": [
        "!wc -l data2.csv"
      ],
      "execution_count": null,
      "outputs": [
        {
          "output_type": "stream",
          "text": [
            "147 data2.csv\n"
          ],
          "name": "stdout"
        }
      ]
    },
    {
      "cell_type": "code",
      "metadata": {
        "id": "lRuVI9jIGeij",
        "colab_type": "code",
        "colab": {}
      },
      "source": [
        ""
      ],
      "execution_count": null,
      "outputs": []
    }
  ]
}