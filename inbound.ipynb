{
  "nbformat": 4,
  "nbformat_minor": 0,
  "metadata": {
    "colab": {
      "name": "inbound.ipynb",
      "provenance": [],
      "mount_file_id": "1bkGc2lsW9bPZbB5nrjwuiwNYhkS5nvP4",
      "authorship_tag": "ABX9TyMQICHYfzfDqnQxqPPlI0kf",
      "include_colab_link": true
    },
    "kernelspec": {
      "name": "python3",
      "display_name": "Python 3"
    }
  },
  "cells": [
    {
      "cell_type": "markdown",
      "metadata": {
        "id": "view-in-github",
        "colab_type": "text"
      },
      "source": [
        "<a href=\"https://colab.research.google.com/github/hamletbatista/inbound/blob/master/inbound.ipynb\" target=\"_parent\"><img src=\"https://colab.research.google.com/assets/colab-badge.svg\" alt=\"Open In Colab\"/></a>"
      ]
    },
    {
      "cell_type": "markdown",
      "metadata": {
        "id": "sQZAH3am3BfJ",
        "colab_type": "text"
      },
      "source": [
        "![alt text](https://github.com/hamletbatista/inbound/raw/master/inbound.png)"
      ]
    },
    {
      "cell_type": "code",
      "metadata": {
        "id": "KSGlXBrojpAx",
        "colab_type": "code",
        "colab": {}
      },
      "source": [
        ""
      ],
      "execution_count": null,
      "outputs": []
    }
  ]
}